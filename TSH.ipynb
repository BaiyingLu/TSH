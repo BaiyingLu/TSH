{
 "cells": [
  {
   "cell_type": "code",
   "execution_count": 9,
   "metadata": {},
   "outputs": [],
   "source": [
    "with open(\"./sample_data.txt\",'r') as sample:\n",
    "    sample.read()"
   ]
  },
  {
   "cell_type": "code",
   "execution_count": 10,
   "metadata": {},
   "outputs": [
    {
     "data": {
      "text/plain": [
       "<_io.TextIOWrapper name='./sample_data.txt' mode='r' encoding='UTF-8'>"
      ]
     },
     "execution_count": 10,
     "metadata": {},
     "output_type": "execute_result"
    }
   ],
   "source": [
    "sample"
   ]
  },
  {
   "cell_type": "code",
   "execution_count": 7,
   "metadata": {},
   "outputs": [
    {
     "ename": "AttributeError",
     "evalue": "'_io.TextIOWrapper' object has no attribute 'splitlines'",
     "output_type": "error",
     "traceback": [
      "\u001b[0;31m---------------------------------------------------------------------------\u001b[0m",
      "\u001b[0;31mAttributeError\u001b[0m                            Traceback (most recent call last)",
      "\u001b[0;32m<ipython-input-7-ac31e45dfc1b>\u001b[0m in \u001b[0;36m<module>\u001b[0;34m\u001b[0m\n\u001b[0;32m----> 1\u001b[0;31m \u001b[0msample\u001b[0m \u001b[0;34m=\u001b[0m \u001b[0msample\u001b[0m\u001b[0;34m.\u001b[0m\u001b[0msplitlines\u001b[0m\u001b[0;34m(\u001b[0m\u001b[0;34m)\u001b[0m\u001b[0;34m\u001b[0m\u001b[0;34m\u001b[0m\u001b[0m\n\u001b[0m",
      "\u001b[0;31mAttributeError\u001b[0m: '_io.TextIOWrapper' object has no attribute 'splitlines'"
     ]
    }
   ],
   "source": [
    "sample = sample.splitlines()"
   ]
  },
  {
   "cell_type": "code",
   "execution_count": 38,
   "metadata": {},
   "outputs": [
    {
     "name": "stdout",
     "output_type": "stream",
     "text": [
      "['Anne Boynton', '45', 'Female', 'TSH,3.5,3.6,1.8,2.8,1.9,3.4,3,3.6,3,4', 'Kamal Solaiman', '31', 'Male', 'TSH,2.7,1.4,2.5,3.1,0.4,1.8,3.1,3,3.8,0.9,2.3', 'Kyaw Win', '54', 'Male', 'TSH,2.5,1.1,1.3,2.7,1.9,2.6,3.5,1,1.4', 'Larissa Webb', '46', 'Female', 'TSH,6.3,6.7,6.3,7.6,2.1,6.9,7.1,4.1,7.2,3.5,2.9', 'Livia Villarroel', '62', 'Female', 'TSH,2.8,2.5,0.7,3.8,2.7,0.2,2.9,1.5,0.8,2.4,2', 'Catherine Su', '44', 'Female', 'TSH,2.4,2.4,3.5,1.1,3,3.9,2,3.7,2.1,3.9', 'Francisco Valle', '35', 'Male', 'TSH,2.7,5.2,4.5,3.3,5.8,2.4,5.3,4.2,2.5,5.2,4', 'Julian Thomson', '64', 'Male', 'TSH,0.6,3.5,0.2,3.7,1.1,0.2,3.5,2.2,1,0.6,3.5', 'Monte Swarup', '51', 'Male', 'TSH,3.1,4.5,3.5,3.6,5.6,4.8,4.3,5.7,4.2,2.4,5.5', 'Jeffrey Bond', '77', 'Male', 'TSH,2,2.6,2.4,2.2,1,1.4,0.2,0.5,2,2.3,0.2', 'END']\n"
     ]
    },
    {
     "data": {
      "text/plain": [
       "'END'"
      ]
     },
     "execution_count": 38,
     "metadata": {},
     "output_type": "execute_result"
    }
   ],
   "source": [
    "\n",
    "filename = \"sample_data.txt\"\n",
    "lines = open(filename).read().splitlines()\n",
    "\n",
    "print(lines)\n",
    "lines[40]"
   ]
  },
  {
   "cell_type": "code",
   "execution_count": 57,
   "metadata": {},
   "outputs": [
    {
     "name": "stdout",
     "output_type": "stream",
     "text": [
      "['3.5', '3.6', '1.8', '2.8', '1.9', '3.4', '3', '3.6', '3', '4']\n",
      "['2.7', '1.4', '2.5', '3.1', '0.4', '1.8', '3.1', '3', '3.8', '0.9', '2.3']\n",
      "['2.5', '1.1', '1.3', '2.7', '1.9', '2.6', '3.5', '1', '1.4']\n",
      "['6.3', '6.7', '6.3', '7.6', '2.1', '6.9', '7.1', '4.1', '7.2', '3.5', '2.9']\n",
      "['2.8', '2.5', '0.7', '3.8', '2.7', '0.2', '2.9', '1.5', '0.8', '2.4', '2']\n",
      "['2.4', '2.4', '3.5', '1.1', '3', '3.9', '2', '3.7', '2.1', '3.9']\n",
      "['2.7', '5.2', '4.5', '3.3', '5.8', '2.4', '5.3', '4.2', '2.5', '5.2', '4']\n",
      "['0.6', '3.5', '0.2', '3.7', '1.1', '0.2', '3.5', '2.2', '1', '0.6', '3.5']\n",
      "['3.1', '4.5', '3.5', '3.6', '5.6', '4.8', '4.3', '5.7', '4.2', '2.4', '5.5']\n",
      "['2', '2.6', '2.4', '2.2', '1', '1.4', '0.2', '0.5', '2', '2.3', '0.2']\n"
     ]
    }
   ],
   "source": [
    "def tsh_info_process(lines): \n",
    "    all_patient = []\n",
    "    for i in range(0,len(lines)-1,4):\n",
    "        while lines[i] != 'END':\n",
    "            tsh_num = lines[i+3].split(\",\")[1:]\n",
    "            print(tsh_num)\n",
    "            tsh_num = [float(i) for i in tsh_num]\n",
    "            tsh_min = min(tsh_num)\n",
    "            tsh_max = max(tsh_num)\n",
    "            tsh_num.sort()\n",
    "            #print(tsh_num)\n",
    "            if tsh_min < 1:\n",
    "                diagnosis = \"hyperthyroidism\"\n",
    "            elif tsh_max > 4:\n",
    "                diagnosis = \"hypothyroidism\"\n",
    "            else:\n",
    "                diagnosis = \"normal thyroid function\"\n",
    "            #print(diagnosis)\n",
    "            patient_dict = {\"First Name\": lines[i].split(\" \")[0],\n",
    "                            \"Last Name\":lines[i].split(\" \")[1],\n",
    "                            \"Age\": int(lines[i+1]),\n",
    "                            \"Gender\": lines[i+2],\n",
    "                            \"Diagnosis\": diagnosis,\n",
    "                            \"TSH\": tsh_num}\n",
    "            filename = patient_dict[\"First Name\"]+' '+patient_dict[\"Last Name\"]+'.json'\n",
    "            out_file = open(filename, \"w\")\n",
    "            json.dump(patient_dict, out_file)\n",
    "            out_file.close()\n",
    "            #print(patient_dict)\n",
    "            break\n",
    "        all_patient.append(patient_dict)\n",
    "    return all_patient\n",
    "        \n",
    "pt = tsh_info_process(lines)"
   ]
  },
  {
   "cell_type": "code",
   "execution_count": 58,
   "metadata": {},
   "outputs": [
    {
     "data": {
      "text/plain": [
       "[{'First Name': 'Anne',\n",
       "  'Last Name': 'Boynton',\n",
       "  'Age': 45,\n",
       "  'Gender': 'Female',\n",
       "  'Diagnosis': 'normal thyroid function',\n",
       "  'TSH': [1.8, 1.9, 2.8, 3.0, 3.0, 3.4, 3.5, 3.6, 3.6, 4.0]},\n",
       " {'First Name': 'Kamal',\n",
       "  'Last Name': 'Solaiman',\n",
       "  'Age': 31,\n",
       "  'Gender': 'Male',\n",
       "  'Diagnosis': 'hyperthyroidism',\n",
       "  'TSH': [0.4, 0.9, 1.4, 1.8, 2.3, 2.5, 2.7, 3.0, 3.1, 3.1, 3.8]},\n",
       " {'First Name': 'Kyaw',\n",
       "  'Last Name': 'Win',\n",
       "  'Age': 54,\n",
       "  'Gender': 'Male',\n",
       "  'Diagnosis': 'normal thyroid function',\n",
       "  'TSH': [1.0, 1.1, 1.3, 1.4, 1.9, 2.5, 2.6, 2.7, 3.5]},\n",
       " {'First Name': 'Larissa',\n",
       "  'Last Name': 'Webb',\n",
       "  'Age': 46,\n",
       "  'Gender': 'Female',\n",
       "  'Diagnosis': 'hypothyroidism',\n",
       "  'TSH': [2.1, 2.9, 3.5, 4.1, 6.3, 6.3, 6.7, 6.9, 7.1, 7.2, 7.6]},\n",
       " {'First Name': 'Livia',\n",
       "  'Last Name': 'Villarroel',\n",
       "  'Age': 62,\n",
       "  'Gender': 'Female',\n",
       "  'Diagnosis': 'hyperthyroidism',\n",
       "  'TSH': [0.2, 0.7, 0.8, 1.5, 2.0, 2.4, 2.5, 2.7, 2.8, 2.9, 3.8]},\n",
       " {'First Name': 'Catherine',\n",
       "  'Last Name': 'Su',\n",
       "  'Age': 44,\n",
       "  'Gender': 'Female',\n",
       "  'Diagnosis': 'normal thyroid function',\n",
       "  'TSH': [1.1, 2.0, 2.1, 2.4, 2.4, 3.0, 3.5, 3.7, 3.9, 3.9]},\n",
       " {'First Name': 'Francisco',\n",
       "  'Last Name': 'Valle',\n",
       "  'Age': 35,\n",
       "  'Gender': 'Male',\n",
       "  'Diagnosis': 'hypothyroidism',\n",
       "  'TSH': [2.4, 2.5, 2.7, 3.3, 4.0, 4.2, 4.5, 5.2, 5.2, 5.3, 5.8]},\n",
       " {'First Name': 'Julian',\n",
       "  'Last Name': 'Thomson',\n",
       "  'Age': 64,\n",
       "  'Gender': 'Male',\n",
       "  'Diagnosis': 'hyperthyroidism',\n",
       "  'TSH': [0.2, 0.2, 0.6, 0.6, 1.0, 1.1, 2.2, 3.5, 3.5, 3.5, 3.7]},\n",
       " {'First Name': 'Monte',\n",
       "  'Last Name': 'Swarup',\n",
       "  'Age': 51,\n",
       "  'Gender': 'Male',\n",
       "  'Diagnosis': 'hypothyroidism',\n",
       "  'TSH': [2.4, 3.1, 3.5, 3.6, 4.2, 4.3, 4.5, 4.8, 5.5, 5.6, 5.7]},\n",
       " {'First Name': 'Jeffrey',\n",
       "  'Last Name': 'Bond',\n",
       "  'Age': 77,\n",
       "  'Gender': 'Male',\n",
       "  'Diagnosis': 'hyperthyroidism',\n",
       "  'TSH': [0.2, 0.2, 0.5, 1.0, 1.4, 2.0, 2.0, 2.2, 2.3, 2.4, 2.6]}]"
      ]
     },
     "execution_count": 58,
     "metadata": {},
     "output_type": "execute_result"
    }
   ],
   "source": [
    "pt"
   ]
  },
  {
   "cell_type": "code",
   "execution_count": null,
   "metadata": {},
   "outputs": [],
   "source": []
  }
 ],
 "metadata": {
  "kernelspec": {
   "display_name": "Python 3",
   "language": "python",
   "name": "python3"
  },
  "language_info": {
   "codemirror_mode": {
    "name": "ipython",
    "version": 3
   },
   "file_extension": ".py",
   "mimetype": "text/x-python",
   "name": "python",
   "nbconvert_exporter": "python",
   "pygments_lexer": "ipython3",
   "version": "3.7.6"
  }
 },
 "nbformat": 4,
 "nbformat_minor": 2
}
